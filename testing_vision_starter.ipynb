{
  "nbformat": 4,
  "nbformat_minor": 0,
  "metadata": {
    "colab": {
      "provenance": [],
      "include_colab_link": true
    },
    "kernelspec": {
      "name": "python3",
      "display_name": "Python 3"
    }
  },
  "cells": [
    {
      "cell_type": "markdown",
      "metadata": {
        "id": "view-in-github",
        "colab_type": "text"
      },
      "source": [
        "<a href=\"https://colab.research.google.com/github/tennercheung/Playground/blob/main/testing_vision_starter.ipynb\" target=\"_parent\"><img src=\"https://colab.research.google.com/assets/colab-badge.svg\" alt=\"Open In Colab\"/></a>"
      ]
    },
    {
      "cell_type": "markdown",
      "metadata": {
        "id": "kaaJRNmXRzuq"
      },
      "source": [
        "First, import some libraries that you'll need:\n",
        "\n",
        "*   `tensorfolow` does the actual machine learning and image recognition work\n",
        "*   `os` accesses the operating system, to work with the stored image file\n",
        "*   `maplotlib.pyplot` displays the image in the Colab notebook\n",
        "*   `numpy` is used to help convert the image into numbers for the model to read\n",
        "\n"
      ]
    },
    {
      "cell_type": "code",
      "metadata": {
        "id": "pG2vpA8FLCww"
      },
      "source": [
        "import tensorflow as tf\n",
        "import os\n",
        "import matplotlib.pyplot as plt\n",
        "import numpy as np"
      ],
      "execution_count": null,
      "outputs": []
    },
    {
      "cell_type": "markdown",
      "metadata": {
        "id": "uRMFnAhURbi5"
      },
      "source": [
        "The `get_image_from_url` function below takes a URL, fetches the image at it, and stores it in a file.\n",
        "It then returns the path to the file. This lets you take an image from the internet and turn it into a local file you can give to your model.\n",
        "\n",
        "It will fail if the image at the URL cannot be read by a machine. Wikipedia images are a good way to avoid this, as is uploading images to your Google Drive."
      ]
    },
    {
      "cell_type": "code",
      "metadata": {
        "id": "aTi1TFg-S3AE"
      },
      "source": [
        "def get_image_from_url(image_url):\n",
        "  # If the temporary test_image.jpg file already exists,\n",
        "  # delete it so a new one can be made.\n",
        "  if os.path.exists('/root/.keras/datasets/test_image.jpg'):\n",
        "    os.remove('/root/.keras/datasets/test_image.jpg')\n",
        "\n",
        "  image_path = tf.keras.utils.get_file('test_image.jpg', origin=image_url)\n",
        "  return image_path"
      ],
      "execution_count": null,
      "outputs": []
    },
    {
      "cell_type": "markdown",
      "metadata": {
        "id": "jH2g6hC3RX1z"
      },
      "source": [
        "The `print_classifications` function takes a list of predictions, looks up the labels for them,\n",
        "then prints the labels and the weight the model has given to that label. It will save you some work later."
      ]
    },
    {
      "cell_type": "code",
      "metadata": {
        "id": "vA_1c5f407cg"
      },
      "source": [
        "def print_classifications(classifications):\n",
        "    for (classification, number) in zip(classifications[0], range(1, len(classifications[0])+1)):\n",
        "      print('{}. {} {:.2f}%'.format(number, classification[1], classification[2]*100))"
      ],
      "execution_count": null,
      "outputs": []
    },
    {
      "cell_type": "markdown",
      "metadata": {
        "id": "baItUUKnTBI1"
      },
      "source": [
        "Load the model that will identify your images:"
      ]
    },
    {
      "cell_type": "code",
      "metadata": {
        "id": "duEfdVqldNSF"
      },
      "source": [],
      "execution_count": null,
      "outputs": []
    },
    {
      "cell_type": "markdown",
      "metadata": {
        "id": "GM8FnZ7mTsLM"
      },
      "source": [
        "Create a function to make predictions about what an image shows:"
      ]
    },
    {
      "cell_type": "code",
      "metadata": {
        "id": "aD2D_ogHeGMS"
      },
      "source": [],
      "execution_count": null,
      "outputs": []
    },
    {
      "cell_type": "markdown",
      "metadata": {
        "id": "YSXL2SzBT3DY"
      },
      "source": [
        "Call the prediction function:"
      ]
    },
    {
      "cell_type": "code",
      "metadata": {
        "id": "opEGe6CXyGl8"
      },
      "source": [],
      "execution_count": null,
      "outputs": []
    }
  ]
}